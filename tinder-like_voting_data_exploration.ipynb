{
 "cells": [
  {
   "cell_type": "code",
   "execution_count": 8,
   "metadata": {},
   "outputs": [],
   "source": [
    "import numpy as np\n",
    "import pandas as pd\n",
    "import os\n",
    "import requests\n",
    "import time \n",
    "import matplotlib.pyplot as plt"
   ]
  },
  {
   "cell_type": "code",
   "execution_count": 9,
   "metadata": {},
   "outputs": [],
   "source": [
    "# file_url = \"tinder_data_tracking_data_TEMP_DATA_SAVE.txt\""
   ]
  },
  {
   "cell_type": "code",
   "execution_count": 10,
   "metadata": {},
   "outputs": [],
   "source": [
    "# os.listdir(\".\")"
   ]
  },
  {
   "cell_type": "code",
   "execution_count": 11,
   "metadata": {},
   "outputs": [],
   "source": [
    "# data_txt = open(\"tinder_data_tracking_data_TEMP_DATA_SAVE.txt\").read()"
   ]
  },
  {
   "cell_type": "code",
   "execution_count": 12,
   "metadata": {},
   "outputs": [],
   "source": [
    "## Trying to fetch the file from the net instead "
   ]
  },
  {
   "cell_type": "code",
   "execution_count": 13,
   "metadata": {},
   "outputs": [],
   "source": [
    "url = \"http://sourisr.kapsi.fi/boras5/ip.txt\""
   ]
  },
  {
   "cell_type": "code",
   "execution_count": 18,
   "metadata": {},
   "outputs": [],
   "source": [
    "data_txt = requests.get( url ).text"
   ]
  },
  {
   "cell_type": "code",
   "execution_count": 75,
   "metadata": {},
   "outputs": [],
   "source": [
    "data_txt = data_txt.replace(\"__\", \"\" )\n",
    "data_txt = data_txt.replace(\"0_5\", \"0\" )\n",
    "data_txt = data_txt.replace(\"test\", \"0\" )"
   ]
  },
  {
   "cell_type": "code",
   "execution_count": 76,
   "metadata": {},
   "outputs": [],
   "source": [
    "# data_text"
   ]
  },
  {
   "cell_type": "code",
   "execution_count": 77,
   "metadata": {},
   "outputs": [
    {
     "data": {
      "text/plain": [
       "'1536328189'"
      ]
     },
     "execution_count": 77,
     "metadata": {},
     "output_type": "execute_result"
    }
   ],
   "source": [
    "data_txt[ : 10 ]"
   ]
  },
  {
   "cell_type": "code",
   "execution_count": 127,
   "metadata": {},
   "outputs": [
    {
     "data": {
      "text/plain": [
       "['1536328189;93.106.250.108;/boras5/save_url_test_01.php?0;',\n",
       " '1536328189;93.106.250.108;/boras5/save_url_test_01.php?1;',\n",
       " '1536328189;93.106.250.108;/boras5/save_url_test_01.php?2;',\n",
       " '1536328310;93.106.250.108;/boras5/save_url_test_01.php?3;',\n",
       " '1536328312;93.106.250.108;/boras5/save_url_test_01.php?4;',\n",
       " '1536328903;93.106.250.108;/boras5/save_url_test_01.php?5;',\n",
       " '1536328906;93.106.250.108;/boras5/save_url_test_01.php?6;',\n",
       " '1536329471;2001:16b8:464a:f101:4cd:8148:8278:c24a;/boras5/save_url_test_01.php?0;',\n",
       " '1536329474;2001:16b8:464a:f101:4cd:8148:8278:c24a;/boras5/save_url_test_01.php?1;',\n",
       " '1536329479;2001:16b8:464a:f101:4cd:8148:8278:c24a;/boras5/save_url_test_01.php?2;']"
      ]
     },
     "execution_count": 127,
     "metadata": {},
     "output_type": "execute_result"
    }
   ],
   "source": [
    "data_txt2 = data_txt.split(\" \")\n",
    "data_txt2[ :10 ]"
   ]
  },
  {
   "cell_type": "code",
   "execution_count": 79,
   "metadata": {},
   "outputs": [],
   "source": [
    "data_txt3 = []"
   ]
  },
  {
   "cell_type": "code",
   "execution_count": 80,
   "metadata": {},
   "outputs": [],
   "source": [
    "for line in data_txt2:\n",
    "    data_txt3.append( line.split(\";\") )"
   ]
  },
  {
   "cell_type": "code",
   "execution_count": 81,
   "metadata": {},
   "outputs": [
    {
     "data": {
      "text/plain": [
       "[['1536328189', '93.106.250.108', '/boras5/save_url_0_01.php?0', ''],\n",
       " ['1536328189', '93.106.250.108', '/boras5/save_url_0_01.php?1', ''],\n",
       " ['1536328189', '93.106.250.108', '/boras5/save_url_0_01.php?2', ''],\n",
       " ['1536328310', '93.106.250.108', '/boras5/save_url_0_01.php?3', ''],\n",
       " ['1536328312', '93.106.250.108', '/boras5/save_url_0_01.php?4', ''],\n",
       " ['1536328903', '93.106.250.108', '/boras5/save_url_0_01.php?5', ''],\n",
       " ['1536328906', '93.106.250.108', '/boras5/save_url_0_01.php?6', ''],\n",
       " ['1536329471',\n",
       "  '2001:16b8:464a:f101:4cd:8148:8278:c24a',\n",
       "  '/boras5/save_url_0_01.php?0',\n",
       "  ''],\n",
       " ['1536329474',\n",
       "  '2001:16b8:464a:f101:4cd:8148:8278:c24a',\n",
       "  '/boras5/save_url_0_01.php?1',\n",
       "  ''],\n",
       " ['1536329479',\n",
       "  '2001:16b8:464a:f101:4cd:8148:8278:c24a',\n",
       "  '/boras5/save_url_0_01.php?2',\n",
       "  '']]"
      ]
     },
     "execution_count": 81,
     "metadata": {},
     "output_type": "execute_result"
    }
   ],
   "source": [
    "data_txt3[ :10 ]"
   ]
  },
  {
   "cell_type": "code",
   "execution_count": 82,
   "metadata": {},
   "outputs": [
    {
     "data": {
      "text/plain": [
       "1303"
      ]
     },
     "execution_count": 82,
     "metadata": {},
     "output_type": "execute_result"
    }
   ],
   "source": [
    "len( data_txt3 ) "
   ]
  },
  {
   "cell_type": "code",
   "execution_count": 83,
   "metadata": {},
   "outputs": [
    {
     "data": {
      "text/plain": [
       "['1536328189', '93.106.250.108', '/boras5/save_url_0_01.php?0', '']"
      ]
     },
     "execution_count": 83,
     "metadata": {},
     "output_type": "execute_result"
    }
   ],
   "source": [
    "data_txt3[0]"
   ]
  },
  {
   "cell_type": "code",
   "execution_count": 84,
   "metadata": {},
   "outputs": [],
   "source": [
    "for line in data_txt3:\n",
    "    line[0] = int( line[0] ) \n",
    "    line[2] = line[2].split(\"?\")[-1]\n",
    "    line[3] = time.asctime( time.localtime( int( line[0] ) ) ) "
   ]
  },
  {
   "cell_type": "code",
   "execution_count": 85,
   "metadata": {},
   "outputs": [
    {
     "data": {
      "text/plain": [
       "[[1536328189, '93.106.250.108', '0', 'Fri Sep  7 15:49:49 2018'],\n",
       " [1536328189, '93.106.250.108', '1', 'Fri Sep  7 15:49:49 2018'],\n",
       " [1536328189, '93.106.250.108', '2', 'Fri Sep  7 15:49:49 2018'],\n",
       " [1536328310, '93.106.250.108', '3', 'Fri Sep  7 15:51:50 2018'],\n",
       " [1536328312, '93.106.250.108', '4', 'Fri Sep  7 15:51:52 2018'],\n",
       " [1536328903, '93.106.250.108', '5', 'Fri Sep  7 16:01:43 2018'],\n",
       " [1536328906, '93.106.250.108', '6', 'Fri Sep  7 16:01:46 2018'],\n",
       " [1536329471,\n",
       "  '2001:16b8:464a:f101:4cd:8148:8278:c24a',\n",
       "  '0',\n",
       "  'Fri Sep  7 16:11:11 2018'],\n",
       " [1536329474,\n",
       "  '2001:16b8:464a:f101:4cd:8148:8278:c24a',\n",
       "  '1',\n",
       "  'Fri Sep  7 16:11:14 2018'],\n",
       " [1536329479,\n",
       "  '2001:16b8:464a:f101:4cd:8148:8278:c24a',\n",
       "  '2',\n",
       "  'Fri Sep  7 16:11:19 2018']]"
      ]
     },
     "execution_count": 85,
     "metadata": {},
     "output_type": "execute_result"
    }
   ],
   "source": [
    "data_txt3[ :10 ]"
   ]
  },
  {
   "cell_type": "code",
   "execution_count": 86,
   "metadata": {},
   "outputs": [
    {
     "data": {
      "text/plain": [
       "'Sun Sep  9 08:11:55 2018'"
      ]
     },
     "execution_count": 86,
     "metadata": {},
     "output_type": "execute_result"
    }
   ],
   "source": [
    "time.asctime( time.localtime( 1536473515 ) ) "
   ]
  },
  {
   "cell_type": "code",
   "execution_count": 87,
   "metadata": {},
   "outputs": [],
   "source": [
    "df = pd.DataFrame( data_txt3 )"
   ]
  },
  {
   "cell_type": "code",
   "execution_count": 88,
   "metadata": {},
   "outputs": [],
   "source": [
    "df.columns = ['epoch_time', 'ip', 'screen_num', 'time_as_string']"
   ]
  },
  {
   "cell_type": "code",
   "execution_count": 89,
   "metadata": {},
   "outputs": [
    {
     "data": {
      "text/html": [
       "<div>\n",
       "<style scoped>\n",
       "    .dataframe tbody tr th:only-of-type {\n",
       "        vertical-align: middle;\n",
       "    }\n",
       "\n",
       "    .dataframe tbody tr th {\n",
       "        vertical-align: top;\n",
       "    }\n",
       "\n",
       "    .dataframe thead th {\n",
       "        text-align: right;\n",
       "    }\n",
       "</style>\n",
       "<table border=\"1\" class=\"dataframe\">\n",
       "  <thead>\n",
       "    <tr style=\"text-align: right;\">\n",
       "      <th></th>\n",
       "      <th>epoch_time</th>\n",
       "      <th>ip</th>\n",
       "      <th>screen_num</th>\n",
       "      <th>time_as_string</th>\n",
       "    </tr>\n",
       "  </thead>\n",
       "  <tbody>\n",
       "    <tr>\n",
       "      <th>0</th>\n",
       "      <td>1536328189</td>\n",
       "      <td>93.106.250.108</td>\n",
       "      <td>0</td>\n",
       "      <td>Fri Sep  7 15:49:49 2018</td>\n",
       "    </tr>\n",
       "    <tr>\n",
       "      <th>1</th>\n",
       "      <td>1536328189</td>\n",
       "      <td>93.106.250.108</td>\n",
       "      <td>1</td>\n",
       "      <td>Fri Sep  7 15:49:49 2018</td>\n",
       "    </tr>\n",
       "    <tr>\n",
       "      <th>2</th>\n",
       "      <td>1536328189</td>\n",
       "      <td>93.106.250.108</td>\n",
       "      <td>2</td>\n",
       "      <td>Fri Sep  7 15:49:49 2018</td>\n",
       "    </tr>\n",
       "    <tr>\n",
       "      <th>3</th>\n",
       "      <td>1536328310</td>\n",
       "      <td>93.106.250.108</td>\n",
       "      <td>3</td>\n",
       "      <td>Fri Sep  7 15:51:50 2018</td>\n",
       "    </tr>\n",
       "    <tr>\n",
       "      <th>4</th>\n",
       "      <td>1536328312</td>\n",
       "      <td>93.106.250.108</td>\n",
       "      <td>4</td>\n",
       "      <td>Fri Sep  7 15:51:52 2018</td>\n",
       "    </tr>\n",
       "    <tr>\n",
       "      <th>5</th>\n",
       "      <td>1536328903</td>\n",
       "      <td>93.106.250.108</td>\n",
       "      <td>5</td>\n",
       "      <td>Fri Sep  7 16:01:43 2018</td>\n",
       "    </tr>\n",
       "    <tr>\n",
       "      <th>6</th>\n",
       "      <td>1536328906</td>\n",
       "      <td>93.106.250.108</td>\n",
       "      <td>6</td>\n",
       "      <td>Fri Sep  7 16:01:46 2018</td>\n",
       "    </tr>\n",
       "    <tr>\n",
       "      <th>7</th>\n",
       "      <td>1536329471</td>\n",
       "      <td>2001:16b8:464a:f101:4cd:8148:8278:c24a</td>\n",
       "      <td>0</td>\n",
       "      <td>Fri Sep  7 16:11:11 2018</td>\n",
       "    </tr>\n",
       "    <tr>\n",
       "      <th>8</th>\n",
       "      <td>1536329474</td>\n",
       "      <td>2001:16b8:464a:f101:4cd:8148:8278:c24a</td>\n",
       "      <td>1</td>\n",
       "      <td>Fri Sep  7 16:11:14 2018</td>\n",
       "    </tr>\n",
       "    <tr>\n",
       "      <th>9</th>\n",
       "      <td>1536329479</td>\n",
       "      <td>2001:16b8:464a:f101:4cd:8148:8278:c24a</td>\n",
       "      <td>2</td>\n",
       "      <td>Fri Sep  7 16:11:19 2018</td>\n",
       "    </tr>\n",
       "  </tbody>\n",
       "</table>\n",
       "</div>"
      ],
      "text/plain": [
       "   epoch_time                                      ip screen_num  \\\n",
       "0  1536328189                          93.106.250.108          0   \n",
       "1  1536328189                          93.106.250.108          1   \n",
       "2  1536328189                          93.106.250.108          2   \n",
       "3  1536328310                          93.106.250.108          3   \n",
       "4  1536328312                          93.106.250.108          4   \n",
       "5  1536328903                          93.106.250.108          5   \n",
       "6  1536328906                          93.106.250.108          6   \n",
       "7  1536329471  2001:16b8:464a:f101:4cd:8148:8278:c24a          0   \n",
       "8  1536329474  2001:16b8:464a:f101:4cd:8148:8278:c24a          1   \n",
       "9  1536329479  2001:16b8:464a:f101:4cd:8148:8278:c24a          2   \n",
       "\n",
       "             time_as_string  \n",
       "0  Fri Sep  7 15:49:49 2018  \n",
       "1  Fri Sep  7 15:49:49 2018  \n",
       "2  Fri Sep  7 15:49:49 2018  \n",
       "3  Fri Sep  7 15:51:50 2018  \n",
       "4  Fri Sep  7 15:51:52 2018  \n",
       "5  Fri Sep  7 16:01:43 2018  \n",
       "6  Fri Sep  7 16:01:46 2018  \n",
       "7  Fri Sep  7 16:11:11 2018  \n",
       "8  Fri Sep  7 16:11:14 2018  \n",
       "9  Fri Sep  7 16:11:19 2018  "
      ]
     },
     "execution_count": 89,
     "metadata": {},
     "output_type": "execute_result"
    }
   ],
   "source": [
    "df[:10]"
   ]
  },
  {
   "cell_type": "code",
   "execution_count": 90,
   "metadata": {},
   "outputs": [
    {
     "data": {
      "text/plain": [
       "(90,)"
      ]
     },
     "execution_count": 90,
     "metadata": {},
     "output_type": "execute_result"
    }
   ],
   "source": [
    "df.ip.unique().shape"
   ]
  },
  {
   "cell_type": "code",
   "execution_count": 91,
   "metadata": {},
   "outputs": [],
   "source": [
    "df.screen_num = df.screen_num.apply( pd.to_numeric )"
   ]
  },
  {
   "cell_type": "code",
   "execution_count": 92,
   "metadata": {},
   "outputs": [
    {
     "data": {
      "text/plain": [
       "numpy.int64"
      ]
     },
     "execution_count": 92,
     "metadata": {},
     "output_type": "execute_result"
    }
   ],
   "source": [
    "type( df.screen_num[0] )"
   ]
  },
  {
   "cell_type": "code",
   "execution_count": 93,
   "metadata": {},
   "outputs": [
    {
     "data": {
      "text/plain": [
       "(1261,)"
      ]
     },
     "execution_count": 93,
     "metadata": {},
     "output_type": "execute_result"
    }
   ],
   "source": [
    "df.epoch_time.unique().shape"
   ]
  },
  {
   "cell_type": "code",
   "execution_count": 131,
   "metadata": {},
   "outputs": [
    {
     "data": {
      "text/plain": [
       "([array([1., 0., 0., 0., 0., 0., 0., 0., 0., 0.]),\n",
       "  array([1., 0., 0., 0., 0., 0., 0., 0., 0., 0.]),\n",
       "  array([1., 0., 0., 0., 0., 0., 0., 0., 0., 0.]),\n",
       "  array([1., 0., 0., 0., 0., 0., 0., 0., 0., 0.]),\n",
       "  array([1., 0., 0., 0., 0., 0., 0., 0., 0., 0.]),\n",
       "  array([1., 0., 0., 0., 0., 0., 0., 0., 0., 0.]),\n",
       "  array([1., 0., 0., 0., 0., 0., 0., 0., 0., 0.]),\n",
       "  array([1., 0., 0., 0., 0., 0., 0., 0., 0., 0.]),\n",
       "  array([1., 0., 0., 0., 0., 0., 0., 0., 0., 0.]),\n",
       "  array([1., 0., 0., 0., 0., 0., 0., 0., 0., 0.]),\n",
       "  array([1., 0., 0., 0., 0., 0., 0., 0., 0., 0.]),\n",
       "  array([1., 0., 0., 0., 0., 0., 0., 0., 0., 0.]),\n",
       "  array([1., 0., 0., 0., 0., 0., 0., 0., 0., 0.]),\n",
       "  array([1., 0., 0., 0., 0., 0., 0., 0., 0., 0.]),\n",
       "  array([1., 0., 0., 0., 0., 0., 0., 0., 0., 0.]),\n",
       "  array([1., 0., 0., 0., 0., 0., 0., 0., 0., 0.]),\n",
       "  array([1., 0., 0., 0., 0., 0., 0., 0., 0., 0.]),\n",
       "  array([1., 0., 0., 0., 0., 0., 0., 0., 0., 0.]),\n",
       "  array([1., 0., 0., 0., 0., 0., 0., 0., 0., 0.]),\n",
       "  array([1., 0., 0., 0., 0., 0., 0., 0., 0., 0.]),\n",
       "  array([1., 0., 0., 0., 0., 0., 0., 0., 0., 0.]),\n",
       "  array([1., 0., 0., 0., 0., 0., 0., 0., 0., 0.]),\n",
       "  array([1., 0., 0., 0., 0., 0., 0., 0., 0., 0.]),\n",
       "  array([1., 0., 0., 0., 0., 0., 0., 0., 0., 0.]),\n",
       "  array([1., 0., 0., 0., 0., 0., 0., 0., 0., 0.]),\n",
       "  array([1., 0., 0., 0., 0., 0., 0., 0., 0., 0.]),\n",
       "  array([1., 0., 0., 0., 0., 0., 0., 0., 0., 0.]),\n",
       "  array([0., 1., 0., 0., 0., 0., 0., 0., 0., 0.]),\n",
       "  array([0., 1., 0., 0., 0., 0., 0., 0., 0., 0.]),\n",
       "  array([0., 1., 0., 0., 0., 0., 0., 0., 0., 0.]),\n",
       "  array([0., 1., 0., 0., 0., 0., 0., 0., 0., 0.]),\n",
       "  array([0., 1., 0., 0., 0., 0., 0., 0., 0., 0.]),\n",
       "  array([0., 1., 0., 0., 0., 0., 0., 0., 0., 0.]),\n",
       "  array([0., 1., 0., 0., 0., 0., 0., 0., 0., 0.]),\n",
       "  array([0., 1., 0., 0., 0., 0., 0., 0., 0., 0.]),\n",
       "  array([0., 1., 0., 0., 0., 0., 0., 0., 0., 0.]),\n",
       "  array([0., 1., 0., 0., 0., 0., 0., 0., 0., 0.]),\n",
       "  array([0., 1., 0., 0., 0., 0., 0., 0., 0., 0.]),\n",
       "  array([0., 1., 0., 0., 0., 0., 0., 0., 0., 0.]),\n",
       "  array([0., 1., 0., 0., 0., 0., 0., 0., 0., 0.]),\n",
       "  array([0., 1., 0., 0., 0., 0., 0., 0., 0., 0.]),\n",
       "  array([0., 1., 0., 0., 0., 0., 0., 0., 0., 0.]),\n",
       "  array([0., 1., 0., 0., 0., 0., 0., 0., 0., 0.]),\n",
       "  array([0., 1., 0., 0., 0., 0., 0., 0., 0., 0.]),\n",
       "  array([0., 1., 0., 0., 0., 0., 0., 0., 0., 0.]),\n",
       "  array([0., 1., 0., 0., 0., 0., 0., 0., 0., 0.]),\n",
       "  array([0., 1., 0., 0., 0., 0., 0., 0., 0., 0.]),\n",
       "  array([0., 1., 0., 0., 0., 0., 0., 0., 0., 0.]),\n",
       "  array([0., 1., 0., 0., 0., 0., 0., 0., 0., 0.]),\n",
       "  array([0., 1., 0., 0., 0., 0., 0., 0., 0., 0.]),\n",
       "  array([0., 1., 0., 0., 0., 0., 0., 0., 0., 0.]),\n",
       "  array([0., 1., 0., 0., 0., 0., 0., 0., 0., 0.]),\n",
       "  array([0., 1., 0., 0., 0., 0., 0., 0., 0., 0.]),\n",
       "  array([0., 0., 1., 0., 0., 0., 0., 0., 0., 0.]),\n",
       "  array([0., 0., 1., 0., 0., 0., 0., 0., 0., 0.]),\n",
       "  array([0., 0., 1., 0., 0., 0., 0., 0., 0., 0.]),\n",
       "  array([0., 0., 1., 0., 0., 0., 0., 0., 0., 0.]),\n",
       "  array([0., 0., 1., 0., 0., 0., 0., 0., 0., 0.]),\n",
       "  array([0., 0., 1., 0., 0., 0., 0., 0., 0., 0.]),\n",
       "  array([0., 0., 1., 0., 0., 0., 0., 0., 0., 0.]),\n",
       "  array([0., 0., 1., 0., 0., 0., 0., 0., 0., 0.]),\n",
       "  array([0., 0., 1., 0., 0., 0., 0., 0., 0., 0.]),\n",
       "  array([0., 0., 1., 0., 0., 0., 0., 0., 0., 0.]),\n",
       "  array([0., 0., 1., 0., 0., 0., 0., 0., 0., 0.]),\n",
       "  array([0., 0., 1., 0., 0., 0., 0., 0., 0., 0.]),\n",
       "  array([0., 0., 1., 0., 0., 0., 0., 0., 0., 0.]),\n",
       "  array([0., 0., 1., 0., 0., 0., 0., 0., 0., 0.]),\n",
       "  array([0., 0., 1., 0., 0., 0., 0., 0., 0., 0.]),\n",
       "  array([0., 0., 1., 0., 0., 0., 0., 0., 0., 0.]),\n",
       "  array([0., 0., 1., 0., 0., 0., 0., 0., 0., 0.]),\n",
       "  array([0., 0., 1., 0., 0., 0., 0., 0., 0., 0.]),\n",
       "  array([0., 0., 1., 0., 0., 0., 0., 0., 0., 0.]),\n",
       "  array([0., 0., 1., 0., 0., 0., 0., 0., 0., 0.]),\n",
       "  array([0., 0., 1., 0., 0., 0., 0., 0., 0., 0.]),\n",
       "  array([0., 0., 1., 0., 0., 0., 0., 0., 0., 0.]),\n",
       "  array([0., 0., 1., 0., 0., 0., 0., 0., 0., 0.]),\n",
       "  array([0., 0., 1., 0., 0., 0., 0., 0., 0., 0.]),\n",
       "  array([0., 0., 1., 0., 0., 0., 0., 0., 0., 0.]),\n",
       "  array([0., 0., 1., 0., 0., 0., 0., 0., 0., 0.]),\n",
       "  array([0., 0., 0., 1., 0., 0., 0., 0., 0., 0.]),\n",
       "  array([0., 0., 0., 1., 0., 0., 0., 0., 0., 0.]),\n",
       "  array([0., 0., 0., 1., 0., 0., 0., 0., 0., 0.]),\n",
       "  array([0., 0., 0., 1., 0., 0., 0., 0., 0., 0.]),\n",
       "  array([0., 0., 0., 1., 0., 0., 0., 0., 0., 0.]),\n",
       "  array([0., 0., 0., 1., 0., 0., 0., 0., 0., 0.]),\n",
       "  array([0., 0., 0., 1., 0., 0., 0., 0., 0., 0.]),\n",
       "  array([0., 0., 0., 1., 0., 0., 0., 0., 0., 0.]),\n",
       "  array([0., 0., 0., 1., 0., 0., 0., 0., 0., 0.]),\n",
       "  array([0., 0., 0., 1., 0., 0., 0., 0., 0., 0.]),\n",
       "  array([0., 0., 0., 1., 0., 0., 0., 0., 0., 0.]),\n",
       "  array([0., 0., 0., 1., 0., 0., 0., 0., 0., 0.]),\n",
       "  array([0., 0., 0., 1., 0., 0., 0., 0., 0., 0.]),\n",
       "  array([0., 0., 0., 1., 0., 0., 0., 0., 0., 0.]),\n",
       "  array([0., 0., 0., 1., 0., 0., 0., 0., 0., 0.]),\n",
       "  array([0., 0., 0., 1., 0., 0., 0., 0., 0., 0.]),\n",
       "  array([0., 0., 0., 1., 0., 0., 0., 0., 0., 0.]),\n",
       "  array([0., 0., 0., 1., 0., 0., 0., 0., 0., 0.]),\n",
       "  array([0., 0., 0., 1., 0., 0., 0., 0., 0., 0.]),\n",
       "  array([0., 0., 0., 1., 0., 0., 0., 0., 0., 0.]),\n",
       "  array([0., 0., 0., 1., 0., 0., 0., 0., 0., 0.]),\n",
       "  array([0., 0., 0., 1., 0., 0., 0., 0., 0., 0.]),\n",
       "  array([0., 0., 0., 1., 0., 0., 0., 0., 0., 0.]),\n",
       "  array([0., 0., 0., 1., 0., 0., 0., 0., 0., 0.]),\n",
       "  array([0., 0., 0., 1., 0., 0., 0., 0., 0., 0.]),\n",
       "  array([0., 0., 0., 1., 0., 0., 0., 0., 0., 0.]),\n",
       "  array([0., 0., 0., 0., 1., 0., 0., 0., 0., 0.]),\n",
       "  array([0., 0., 0., 0., 1., 0., 0., 0., 0., 0.]),\n",
       "  array([0., 0., 0., 0., 1., 0., 0., 0., 0., 0.]),\n",
       "  array([0., 0., 0., 0., 1., 0., 0., 0., 0., 0.]),\n",
       "  array([0., 0., 0., 0., 1., 0., 0., 0., 0., 0.]),\n",
       "  array([0., 0., 0., 0., 1., 0., 0., 0., 0., 0.]),\n",
       "  array([0., 0., 0., 0., 1., 0., 0., 0., 0., 0.]),\n",
       "  array([0., 0., 0., 0., 1., 0., 0., 0., 0., 0.]),\n",
       "  array([0., 0., 0., 0., 1., 0., 0., 0., 0., 0.]),\n",
       "  array([0., 0., 0., 0., 1., 0., 0., 0., 0., 0.]),\n",
       "  array([0., 0., 0., 0., 1., 0., 0., 0., 0., 0.]),\n",
       "  array([0., 0., 0., 0., 1., 0., 0., 0., 0., 0.]),\n",
       "  array([0., 0., 0., 0., 1., 0., 0., 0., 0., 0.]),\n",
       "  array([0., 0., 0., 0., 1., 0., 0., 0., 0., 0.]),\n",
       "  array([0., 0., 0., 0., 1., 0., 0., 0., 0., 0.]),\n",
       "  array([0., 0., 0., 0., 1., 0., 0., 0., 0., 0.]),\n",
       "  array([0., 0., 0., 0., 1., 0., 0., 0., 0., 0.]),\n",
       "  array([0., 0., 0., 0., 1., 0., 0., 0., 0., 0.]),\n",
       "  array([0., 0., 0., 0., 1., 0., 0., 0., 0., 0.]),\n",
       "  array([0., 0., 0., 0., 1., 0., 0., 0., 0., 0.]),\n",
       "  array([0., 0., 0., 0., 1., 0., 0., 0., 0., 0.]),\n",
       "  array([0., 0., 0., 0., 1., 0., 0., 0., 0., 0.]),\n",
       "  array([0., 0., 0., 0., 1., 0., 0., 0., 0., 0.]),\n",
       "  array([0., 0., 0., 0., 1., 0., 0., 0., 0., 0.]),\n",
       "  array([0., 0., 0., 0., 1., 0., 0., 0., 0., 0.]),\n",
       "  array([0., 0., 0., 0., 1., 0., 0., 0., 0., 0.]),\n",
       "  array([0., 0., 0., 0., 0., 1., 0., 0., 0., 0.]),\n",
       "  array([0., 0., 0., 0., 0., 1., 0., 0., 0., 0.]),\n",
       "  array([0., 0., 0., 0., 0., 1., 0., 0., 0., 0.]),\n",
       "  array([0., 0., 0., 0., 0., 1., 0., 0., 0., 0.]),\n",
       "  array([0., 0., 0., 0., 0., 1., 0., 0., 0., 0.]),\n",
       "  array([0., 0., 0., 0., 0., 1., 0., 0., 0., 0.]),\n",
       "  array([0., 0., 0., 0., 0., 1., 0., 0., 0., 0.]),\n",
       "  array([0., 0., 0., 0., 0., 1., 0., 0., 0., 0.]),\n",
       "  array([0., 0., 0., 0., 0., 1., 0., 0., 0., 0.]),\n",
       "  array([0., 0., 0., 0., 0., 1., 0., 0., 0., 0.]),\n",
       "  array([0., 0., 0., 0., 0., 1., 0., 0., 0., 0.]),\n",
       "  array([0., 0., 0., 0., 0., 1., 0., 0., 0., 0.]),\n",
       "  array([0., 0., 0., 0., 0., 1., 0., 0., 0., 0.]),\n",
       "  array([0., 0., 0., 0., 0., 1., 0., 0., 0., 0.]),\n",
       "  array([0., 0., 0., 0., 0., 1., 0., 0., 0., 0.]),\n",
       "  array([0., 0., 0., 0., 0., 1., 0., 0., 0., 0.]),\n",
       "  array([0., 0., 0., 0., 0., 1., 0., 0., 0., 0.]),\n",
       "  array([0., 0., 0., 0., 0., 1., 0., 0., 0., 0.]),\n",
       "  array([0., 0., 0., 0., 0., 1., 0., 0., 0., 0.]),\n",
       "  array([0., 0., 0., 0., 0., 1., 0., 0., 0., 0.]),\n",
       "  array([0., 0., 0., 0., 0., 1., 0., 0., 0., 0.]),\n",
       "  array([0., 0., 0., 0., 0., 1., 0., 0., 0., 0.]),\n",
       "  array([0., 0., 0., 0., 0., 1., 0., 0., 0., 0.]),\n",
       "  array([0., 0., 0., 0., 0., 1., 0., 0., 0., 0.]),\n",
       "  array([0., 0., 0., 0., 0., 1., 0., 0., 0., 0.]),\n",
       "  array([0., 0., 0., 0., 0., 1., 0., 0., 0., 0.]),\n",
       "  array([0., 0., 0., 0., 0., 0., 1., 0., 0., 0.]),\n",
       "  array([0., 0., 0., 0., 0., 0., 1., 0., 0., 0.]),\n",
       "  array([0., 0., 0., 0., 0., 0., 1., 0., 0., 0.]),\n",
       "  array([0., 0., 0., 0., 0., 0., 1., 0., 0., 0.]),\n",
       "  array([0., 0., 0., 0., 0., 0., 1., 0., 0., 0.]),\n",
       "  array([0., 0., 0., 0., 0., 0., 1., 0., 0., 0.]),\n",
       "  array([0., 0., 0., 0., 0., 0., 1., 0., 0., 0.]),\n",
       "  array([0., 0., 0., 0., 0., 0., 1., 0., 0., 0.]),\n",
       "  array([0., 0., 0., 0., 0., 0., 1., 0., 0., 0.]),\n",
       "  array([0., 0., 0., 0., 0., 0., 1., 0., 0., 0.]),\n",
       "  array([0., 0., 0., 0., 0., 0., 1., 0., 0., 0.]),\n",
       "  array([0., 0., 0., 0., 0., 0., 1., 0., 0., 0.]),\n",
       "  array([0., 0., 0., 0., 0., 0., 1., 0., 0., 0.]),\n",
       "  array([0., 0., 0., 0., 0., 0., 1., 0., 0., 0.]),\n",
       "  array([0., 0., 0., 0., 0., 0., 1., 0., 0., 0.]),\n",
       "  array([0., 0., 0., 0., 0., 0., 1., 0., 0., 0.]),\n",
       "  array([0., 0., 0., 0., 0., 0., 1., 0., 0., 0.]),\n",
       "  array([0., 0., 0., 0., 0., 0., 1., 0., 0., 0.]),\n",
       "  array([0., 0., 0., 0., 0., 0., 1., 0., 0., 0.]),\n",
       "  array([0., 0., 0., 0., 0., 0., 1., 0., 0., 0.]),\n",
       "  array([0., 0., 0., 0., 0., 0., 1., 0., 0., 0.]),\n",
       "  array([0., 0., 0., 0., 0., 0., 1., 0., 0., 0.]),\n",
       "  array([0., 0., 0., 0., 0., 0., 1., 0., 0., 0.]),\n",
       "  array([0., 0., 0., 0., 0., 0., 1., 0., 0., 0.]),\n",
       "  array([0., 0., 0., 0., 0., 0., 1., 0., 0., 0.]),\n",
       "  array([0., 0., 0., 0., 0., 0., 1., 0., 0., 0.]),\n",
       "  array([0., 0., 0., 0., 0., 0., 0., 1., 0., 0.]),\n",
       "  array([0., 0., 0., 0., 0., 0., 0., 1., 0., 0.]),\n",
       "  array([0., 0., 0., 0., 0., 0., 0., 1., 0., 0.]),\n",
       "  array([0., 0., 0., 0., 0., 0., 0., 1., 0., 0.]),\n",
       "  array([0., 0., 0., 0., 0., 0., 0., 1., 0., 0.]),\n",
       "  array([0., 0., 0., 0., 0., 0., 0., 1., 0., 0.]),\n",
       "  array([0., 0., 0., 0., 0., 0., 0., 1., 0., 0.]),\n",
       "  array([0., 0., 0., 0., 0., 0., 0., 1., 0., 0.]),\n",
       "  array([0., 0., 0., 0., 0., 0., 0., 1., 0., 0.]),\n",
       "  array([0., 0., 0., 0., 0., 0., 0., 1., 0., 0.]),\n",
       "  array([0., 0., 0., 0., 0., 0., 0., 1., 0., 0.]),\n",
       "  array([0., 0., 0., 0., 0., 0., 0., 1., 0., 0.]),\n",
       "  array([0., 0., 0., 0., 0., 0., 0., 1., 0., 0.]),\n",
       "  array([0., 0., 0., 0., 0., 0., 0., 1., 0., 0.]),\n",
       "  array([0., 0., 0., 0., 0., 0., 0., 1., 0., 0.]),\n",
       "  array([0., 0., 0., 0., 0., 0., 0., 1., 0., 0.]),\n",
       "  array([0., 0., 0., 0., 0., 0., 0., 1., 0., 0.]),\n",
       "  array([0., 0., 0., 0., 0., 0., 0., 1., 0., 0.]),\n",
       "  array([0., 0., 0., 0., 0., 0., 0., 1., 0., 0.]),\n",
       "  array([0., 0., 0., 0., 0., 0., 0., 1., 0., 0.]),\n",
       "  array([0., 0., 0., 0., 0., 0., 0., 1., 0., 0.]),\n",
       "  array([0., 0., 0., 0., 0., 0., 0., 1., 0., 0.]),\n",
       "  array([0., 0., 0., 0., 0., 0., 0., 1., 0., 0.]),\n",
       "  array([0., 0., 0., 0., 0., 0., 0., 1., 0., 0.]),\n",
       "  array([0., 0., 0., 0., 0., 0., 0., 1., 0., 0.]),\n",
       "  array([0., 0., 0., 0., 0., 0., 0., 1., 0., 0.]),\n",
       "  array([0., 0., 0., 0., 0., 0., 0., 0., 1., 0.]),\n",
       "  array([0., 0., 0., 0., 0., 0., 0., 0., 1., 0.]),\n",
       "  array([0., 0., 0., 0., 0., 0., 0., 0., 1., 0.]),\n",
       "  array([0., 0., 0., 0., 0., 0., 0., 0., 1., 0.]),\n",
       "  array([0., 0., 0., 0., 0., 0., 0., 0., 1., 0.]),\n",
       "  array([0., 0., 0., 0., 0., 0., 0., 0., 1., 0.]),\n",
       "  array([0., 0., 0., 0., 0., 0., 0., 0., 1., 0.]),\n",
       "  array([0., 0., 0., 0., 0., 0., 0., 0., 1., 0.]),\n",
       "  array([0., 0., 0., 0., 0., 0., 0., 0., 1., 0.]),\n",
       "  array([0., 0., 0., 0., 0., 0., 0., 0., 1., 0.]),\n",
       "  array([0., 0., 0., 0., 0., 0., 0., 0., 1., 0.]),\n",
       "  array([0., 0., 0., 0., 0., 0., 0., 0., 1., 0.]),\n",
       "  array([0., 0., 0., 0., 0., 0., 0., 0., 1., 0.]),\n",
       "  array([0., 0., 0., 0., 0., 0., 0., 0., 1., 0.]),\n",
       "  array([0., 0., 0., 0., 0., 0., 0., 0., 1., 0.]),\n",
       "  array([0., 0., 0., 0., 0., 0., 0., 0., 1., 0.]),\n",
       "  array([0., 0., 0., 0., 0., 0., 0., 0., 1., 0.]),\n",
       "  array([0., 0., 0., 0., 0., 0., 0., 0., 1., 0.]),\n",
       "  array([0., 0., 0., 0., 0., 0., 0., 0., 1., 0.]),\n",
       "  array([0., 0., 0., 0., 0., 0., 0., 0., 1., 0.]),\n",
       "  array([0., 0., 0., 0., 0., 0., 0., 0., 1., 0.]),\n",
       "  array([0., 0., 0., 0., 0., 0., 0., 0., 1., 0.]),\n",
       "  array([0., 0., 0., 0., 0., 0., 0., 0., 1., 0.]),\n",
       "  array([0., 0., 0., 0., 0., 0., 0., 0., 1., 0.]),\n",
       "  array([0., 0., 0., 0., 0., 0., 0., 0., 1., 0.]),\n",
       "  array([0., 0., 0., 0., 0., 0., 0., 0., 1., 0.]),\n",
       "  array([0., 0., 0., 0., 0., 0., 0., 0., 0., 1.]),\n",
       "  array([0., 0., 0., 0., 0., 0., 0., 0., 0., 1.]),\n",
       "  array([0., 0., 0., 0., 0., 0., 0., 0., 0., 1.]),\n",
       "  array([0., 0., 0., 0., 0., 0., 0., 0., 0., 1.]),\n",
       "  array([0., 0., 0., 0., 0., 0., 0., 0., 0., 1.]),\n",
       "  array([0., 0., 0., 0., 0., 0., 0., 0., 0., 1.]),\n",
       "  array([0., 0., 0., 0., 0., 0., 0., 0., 0., 1.]),\n",
       "  array([0., 0., 0., 0., 0., 0., 0., 0., 0., 1.]),\n",
       "  array([0., 0., 0., 0., 0., 0., 0., 0., 0., 1.]),\n",
       "  array([0., 0., 0., 0., 0., 0., 0., 0., 0., 1.]),\n",
       "  array([0., 0., 0., 0., 0., 0., 0., 0., 0., 1.]),\n",
       "  array([0., 0., 0., 0., 0., 0., 0., 0., 0., 1.]),\n",
       "  array([0., 0., 0., 0., 0., 0., 0., 0., 0., 1.]),\n",
       "  array([0., 0., 0., 0., 0., 0., 0., 0., 0., 1.]),\n",
       "  array([0., 0., 0., 0., 0., 0., 0., 0., 0., 1.]),\n",
       "  array([0., 0., 0., 0., 0., 0., 0., 0., 0., 1.]),\n",
       "  array([0., 0., 0., 0., 0., 0., 0., 0., 0., 1.]),\n",
       "  array([0., 0., 0., 0., 0., 0., 0., 0., 0., 1.]),\n",
       "  array([0., 0., 0., 0., 0., 0., 0., 0., 0., 1.]),\n",
       "  array([0., 0., 0., 0., 0., 0., 0., 0., 0., 1.]),\n",
       "  array([0., 0., 0., 0., 0., 0., 0., 0., 0., 1.]),\n",
       "  array([0., 0., 0., 0., 0., 0., 0., 0., 0., 1.]),\n",
       "  array([0., 0., 0., 0., 0., 0., 0., 0., 0., 1.]),\n",
       "  array([0., 0., 0., 0., 0., 0., 0., 0., 0., 1.]),\n",
       "  array([0., 0., 0., 0., 0., 0., 0., 0., 0., 1.]),\n",
       "  array([0., 0., 0., 0., 0., 0., 0., 0., 0., 1.]),\n",
       "  array([0., 0., 0., 0., 0., 0., 0., 0., 0., 1.])],\n",
       " array([  0. ,  26.1,  52.2,  78.3, 104.4, 130.5, 156.6, 182.7, 208.8,\n",
       "        234.9, 261. ]),\n",
       " <a list of 262 Lists of Patches objects>)"
      ]
     },
     "execution_count": 131,
     "metadata": {},
     "output_type": "execute_result"
    },
    {
     "data": {
      "image/png": "[encoded data removed]",
      "text/plain": [
       "<Figure size 432x288 with 1 Axes>"
      ]
     },
     "metadata": {},
     "output_type": "display_data"
    }
   ],
   "source": [
    "# plt.hist( df.epoch_time.unique() )"
   ]
  },
  {
   "cell_type": "code",
   "execution_count": 97,
   "metadata": {},
   "outputs": [
    {
     "data": {
      "text/plain": [
       "(1303,)"
      ]
     },
     "execution_count": 97,
     "metadata": {},
     "output_type": "execute_result"
    }
   ],
   "source": [
    "df.screen_num.shape"
   ]
  },
  {
   "cell_type": "code",
   "execution_count": 98,
   "metadata": {},
   "outputs": [
    {
     "data": {
      "text/plain": [
       "array([ 0,  1,  2,  3,  4,  5,  6, 13, 14, 15, 16, 17, 18,  7,  8,  9, 10,\n",
       "       11, 12])"
      ]
     },
     "execution_count": 98,
     "metadata": {},
     "output_type": "execute_result"
    }
   ],
   "source": [
    "df.screen_num.unique()"
   ]
  },
  {
   "cell_type": "code",
   "execution_count": 99,
   "metadata": {},
   "outputs": [
    {
     "data": {
      "text/html": [
       "<div>\n",
       "<style scoped>\n",
       "    .dataframe tbody tr th:only-of-type {\n",
       "        vertical-align: middle;\n",
       "    }\n",
       "\n",
       "    .dataframe tbody tr th {\n",
       "        vertical-align: top;\n",
       "    }\n",
       "\n",
       "    .dataframe thead th {\n",
       "        text-align: right;\n",
       "    }\n",
       "</style>\n",
       "<table border=\"1\" class=\"dataframe\">\n",
       "  <thead>\n",
       "    <tr style=\"text-align: right;\">\n",
       "      <th></th>\n",
       "      <th>epoch_time</th>\n",
       "      <th>ip</th>\n",
       "      <th>screen_num</th>\n",
       "      <th>time_as_string</th>\n",
       "    </tr>\n",
       "  </thead>\n",
       "  <tbody>\n",
       "    <tr>\n",
       "      <th>24</th>\n",
       "      <td>1536330124</td>\n",
       "      <td>77.238.61.100</td>\n",
       "      <td>18</td>\n",
       "      <td>Fri Sep  7 16:22:04 2018</td>\n",
       "    </tr>\n",
       "    <tr>\n",
       "      <th>68</th>\n",
       "      <td>1536331994</td>\n",
       "      <td>193.12.72.184</td>\n",
       "      <td>18</td>\n",
       "      <td>Fri Sep  7 16:53:14 2018</td>\n",
       "    </tr>\n",
       "    <tr>\n",
       "      <th>89</th>\n",
       "      <td>1536333106</td>\n",
       "      <td>217.214.152.255</td>\n",
       "      <td>18</td>\n",
       "      <td>Fri Sep  7 17:11:46 2018</td>\n",
       "    </tr>\n",
       "    <tr>\n",
       "      <th>127</th>\n",
       "      <td>1536335217</td>\n",
       "      <td>78.71.214.199</td>\n",
       "      <td>18</td>\n",
       "      <td>Fri Sep  7 17:46:57 2018</td>\n",
       "    </tr>\n",
       "    <tr>\n",
       "      <th>150</th>\n",
       "      <td>1536335902</td>\n",
       "      <td>83.252.97.31</td>\n",
       "      <td>18</td>\n",
       "      <td>Fri Sep  7 17:58:22 2018</td>\n",
       "    </tr>\n",
       "    <tr>\n",
       "      <th>169</th>\n",
       "      <td>1536335973</td>\n",
       "      <td>83.252.97.31</td>\n",
       "      <td>18</td>\n",
       "      <td>Fri Sep  7 17:59:33 2018</td>\n",
       "    </tr>\n",
       "    <tr>\n",
       "      <th>200</th>\n",
       "      <td>1536336147</td>\n",
       "      <td>78.71.214.199</td>\n",
       "      <td>18</td>\n",
       "      <td>Fri Sep  7 18:02:27 2018</td>\n",
       "    </tr>\n",
       "    <tr>\n",
       "      <th>240</th>\n",
       "      <td>1536339271</td>\n",
       "      <td>83.233.2.218</td>\n",
       "      <td>18</td>\n",
       "      <td>Fri Sep  7 18:54:31 2018</td>\n",
       "    </tr>\n",
       "    <tr>\n",
       "      <th>248</th>\n",
       "      <td>1536339464</td>\n",
       "      <td>77.238.61.100</td>\n",
       "      <td>18</td>\n",
       "      <td>Fri Sep  7 18:57:44 2018</td>\n",
       "    </tr>\n",
       "    <tr>\n",
       "      <th>271</th>\n",
       "      <td>1536340732</td>\n",
       "      <td>94.234.50.247</td>\n",
       "      <td>18</td>\n",
       "      <td>Fri Sep  7 19:18:52 2018</td>\n",
       "    </tr>\n",
       "    <tr>\n",
       "      <th>306</th>\n",
       "      <td>1536341336</td>\n",
       "      <td>77.218.229.61</td>\n",
       "      <td>18</td>\n",
       "      <td>Fri Sep  7 19:28:56 2018</td>\n",
       "    </tr>\n",
       "    <tr>\n",
       "      <th>330</th>\n",
       "      <td>1536342126</td>\n",
       "      <td>77.238.61.107</td>\n",
       "      <td>18</td>\n",
       "      <td>Fri Sep  7 19:42:06 2018</td>\n",
       "    </tr>\n",
       "    <tr>\n",
       "      <th>352</th>\n",
       "      <td>1536342606</td>\n",
       "      <td>85.194.8.76</td>\n",
       "      <td>18</td>\n",
       "      <td>Fri Sep  7 19:50:06 2018</td>\n",
       "    </tr>\n",
       "    <tr>\n",
       "      <th>391</th>\n",
       "      <td>1536343860</td>\n",
       "      <td>31.208.112.166</td>\n",
       "      <td>18</td>\n",
       "      <td>Fri Sep  7 20:11:00 2018</td>\n",
       "    </tr>\n",
       "    <tr>\n",
       "      <th>412</th>\n",
       "      <td>1536344437</td>\n",
       "      <td>83.252.102.121</td>\n",
       "      <td>18</td>\n",
       "      <td>Fri Sep  7 20:20:37 2018</td>\n",
       "    </tr>\n",
       "    <tr>\n",
       "      <th>438</th>\n",
       "      <td>1536346243</td>\n",
       "      <td>31.208.114.169</td>\n",
       "      <td>18</td>\n",
       "      <td>Fri Sep  7 20:50:43 2018</td>\n",
       "    </tr>\n",
       "    <tr>\n",
       "      <th>458</th>\n",
       "      <td>1536348216</td>\n",
       "      <td>83.253.221.127</td>\n",
       "      <td>18</td>\n",
       "      <td>Fri Sep  7 21:23:36 2018</td>\n",
       "    </tr>\n",
       "    <tr>\n",
       "      <th>482</th>\n",
       "      <td>1536348226</td>\n",
       "      <td>83.253.221.127</td>\n",
       "      <td>18</td>\n",
       "      <td>Fri Sep  7 21:23:46 2018</td>\n",
       "    </tr>\n",
       "    <tr>\n",
       "      <th>496</th>\n",
       "      <td>1536348229</td>\n",
       "      <td>83.253.221.127</td>\n",
       "      <td>18</td>\n",
       "      <td>Fri Sep  7 21:23:49 2018</td>\n",
       "    </tr>\n",
       "    <tr>\n",
       "      <th>524</th>\n",
       "      <td>1536357351</td>\n",
       "      <td>217.214.151.114</td>\n",
       "      <td>18</td>\n",
       "      <td>Fri Sep  7 23:55:51 2018</td>\n",
       "    </tr>\n",
       "    <tr>\n",
       "      <th>558</th>\n",
       "      <td>1536380228</td>\n",
       "      <td>185.229.190.165</td>\n",
       "      <td>18</td>\n",
       "      <td>Sat Sep  8 06:17:08 2018</td>\n",
       "    </tr>\n",
       "    <tr>\n",
       "      <th>578</th>\n",
       "      <td>1536381244</td>\n",
       "      <td>37.123.150.170</td>\n",
       "      <td>18</td>\n",
       "      <td>Sat Sep  8 06:34:04 2018</td>\n",
       "    </tr>\n",
       "    <tr>\n",
       "      <th>598</th>\n",
       "      <td>1536383378</td>\n",
       "      <td>217.214.146.177</td>\n",
       "      <td>18</td>\n",
       "      <td>Sat Sep  8 07:09:38 2018</td>\n",
       "    </tr>\n",
       "    <tr>\n",
       "      <th>618</th>\n",
       "      <td>1536383696</td>\n",
       "      <td>2a00:801:320:e9d9:a964:cd4e:45b3:db0c</td>\n",
       "      <td>18</td>\n",
       "      <td>Sat Sep  8 07:14:56 2018</td>\n",
       "    </tr>\n",
       "    <tr>\n",
       "      <th>638</th>\n",
       "      <td>1536384985</td>\n",
       "      <td>87.253.95.220</td>\n",
       "      <td>18</td>\n",
       "      <td>Sat Sep  8 07:36:25 2018</td>\n",
       "    </tr>\n",
       "    <tr>\n",
       "      <th>670</th>\n",
       "      <td>1536385228</td>\n",
       "      <td>2a00:801:251:c32e:b943:3a12:3d40:3813</td>\n",
       "      <td>18</td>\n",
       "      <td>Sat Sep  8 07:40:28 2018</td>\n",
       "    </tr>\n",
       "    <tr>\n",
       "      <th>694</th>\n",
       "      <td>1536389547</td>\n",
       "      <td>85.230.216.149</td>\n",
       "      <td>18</td>\n",
       "      <td>Sat Sep  8 08:52:27 2018</td>\n",
       "    </tr>\n",
       "    <tr>\n",
       "      <th>715</th>\n",
       "      <td>1536398499</td>\n",
       "      <td>87.253.92.147</td>\n",
       "      <td>18</td>\n",
       "      <td>Sat Sep  8 11:21:39 2018</td>\n",
       "    </tr>\n",
       "    <tr>\n",
       "      <th>736</th>\n",
       "      <td>1536399791</td>\n",
       "      <td>46.59.34.121</td>\n",
       "      <td>18</td>\n",
       "      <td>Sat Sep  8 11:43:11 2018</td>\n",
       "    </tr>\n",
       "    <tr>\n",
       "      <th>760</th>\n",
       "      <td>1536401107</td>\n",
       "      <td>95.199.11.76</td>\n",
       "      <td>18</td>\n",
       "      <td>Sat Sep  8 12:05:07 2018</td>\n",
       "    </tr>\n",
       "    <tr>\n",
       "      <th>781</th>\n",
       "      <td>1536403460</td>\n",
       "      <td>2a00:801:341:f2af:2c58:df7e:10de:9934</td>\n",
       "      <td>18</td>\n",
       "      <td>Sat Sep  8 12:44:20 2018</td>\n",
       "    </tr>\n",
       "    <tr>\n",
       "      <th>801</th>\n",
       "      <td>1536403785</td>\n",
       "      <td>84.217.235.153</td>\n",
       "      <td>18</td>\n",
       "      <td>Sat Sep  8 12:49:45 2018</td>\n",
       "    </tr>\n",
       "    <tr>\n",
       "      <th>821</th>\n",
       "      <td>1536404545</td>\n",
       "      <td>2a02:aa1:1607:e6e4:1:2:8b20:a881</td>\n",
       "      <td>18</td>\n",
       "      <td>Sat Sep  8 13:02:25 2018</td>\n",
       "    </tr>\n",
       "    <tr>\n",
       "      <th>842</th>\n",
       "      <td>1536405001</td>\n",
       "      <td>81.230.148.174</td>\n",
       "      <td>18</td>\n",
       "      <td>Sat Sep  8 13:10:01 2018</td>\n",
       "    </tr>\n",
       "    <tr>\n",
       "      <th>862</th>\n",
       "      <td>1536406158</td>\n",
       "      <td>87.253.93.192</td>\n",
       "      <td>18</td>\n",
       "      <td>Sat Sep  8 13:29:18 2018</td>\n",
       "    </tr>\n",
       "    <tr>\n",
       "      <th>901</th>\n",
       "      <td>1536407954</td>\n",
       "      <td>81.235.23.87</td>\n",
       "      <td>18</td>\n",
       "      <td>Sat Sep  8 13:59:14 2018</td>\n",
       "    </tr>\n",
       "    <tr>\n",
       "      <th>903</th>\n",
       "      <td>1536407958</td>\n",
       "      <td>83.252.98.209</td>\n",
       "      <td>18</td>\n",
       "      <td>Sat Sep  8 13:59:18 2018</td>\n",
       "    </tr>\n",
       "    <tr>\n",
       "      <th>961</th>\n",
       "      <td>1536414346</td>\n",
       "      <td>185.113.96.191</td>\n",
       "      <td>18</td>\n",
       "      <td>Sat Sep  8 15:45:46 2018</td>\n",
       "    </tr>\n",
       "    <tr>\n",
       "      <th>983</th>\n",
       "      <td>1536415528</td>\n",
       "      <td>94.234.49.114</td>\n",
       "      <td>18</td>\n",
       "      <td>Sat Sep  8 16:05:28 2018</td>\n",
       "    </tr>\n",
       "    <tr>\n",
       "      <th>1003</th>\n",
       "      <td>1536422038</td>\n",
       "      <td>79.99.170.162</td>\n",
       "      <td>18</td>\n",
       "      <td>Sat Sep  8 17:53:58 2018</td>\n",
       "    </tr>\n",
       "    <tr>\n",
       "      <th>1037</th>\n",
       "      <td>1536429087</td>\n",
       "      <td>87.253.92.147</td>\n",
       "      <td>18</td>\n",
       "      <td>Sat Sep  8 19:51:27 2018</td>\n",
       "    </tr>\n",
       "    <tr>\n",
       "      <th>1070</th>\n",
       "      <td>1536434261</td>\n",
       "      <td>94.234.54.98</td>\n",
       "      <td>18</td>\n",
       "      <td>Sat Sep  8 21:17:41 2018</td>\n",
       "    </tr>\n",
       "    <tr>\n",
       "      <th>1081</th>\n",
       "      <td>1536434457</td>\n",
       "      <td>2a02:aa1:1003:a2ef:50ce:85bb:dfd2:9507</td>\n",
       "      <td>18</td>\n",
       "      <td>Sat Sep  8 21:20:57 2018</td>\n",
       "    </tr>\n",
       "    <tr>\n",
       "      <th>1100</th>\n",
       "      <td>1536436539</td>\n",
       "      <td>90.224.8.37</td>\n",
       "      <td>18</td>\n",
       "      <td>Sat Sep  8 21:55:39 2018</td>\n",
       "    </tr>\n",
       "    <tr>\n",
       "      <th>1133</th>\n",
       "      <td>1536440102</td>\n",
       "      <td>83.252.8.174</td>\n",
       "      <td>18</td>\n",
       "      <td>Sat Sep  8 22:55:02 2018</td>\n",
       "    </tr>\n",
       "    <tr>\n",
       "      <th>1155</th>\n",
       "      <td>1536447254</td>\n",
       "      <td>158.174.79.214</td>\n",
       "      <td>18</td>\n",
       "      <td>Sun Sep  9 00:54:14 2018</td>\n",
       "    </tr>\n",
       "    <tr>\n",
       "      <th>1181</th>\n",
       "      <td>1536448919</td>\n",
       "      <td>90.226.43.244</td>\n",
       "      <td>18</td>\n",
       "      <td>Sun Sep  9 01:21:59 2018</td>\n",
       "    </tr>\n",
       "    <tr>\n",
       "      <th>1200</th>\n",
       "      <td>1536451309</td>\n",
       "      <td>83.252.97.196</td>\n",
       "      <td>18</td>\n",
       "      <td>Sun Sep  9 02:01:49 2018</td>\n",
       "    </tr>\n",
       "    <tr>\n",
       "      <th>1220</th>\n",
       "      <td>1536471100</td>\n",
       "      <td>213.238.253.221</td>\n",
       "      <td>18</td>\n",
       "      <td>Sun Sep  9 07:31:40 2018</td>\n",
       "    </tr>\n",
       "    <tr>\n",
       "      <th>1264</th>\n",
       "      <td>1536477820</td>\n",
       "      <td>85.224.141.47</td>\n",
       "      <td>18</td>\n",
       "      <td>Sun Sep  9 09:23:40 2018</td>\n",
       "    </tr>\n",
       "  </tbody>\n",
       "</table>\n",
       "</div>"
      ],
      "text/plain": [
       "      epoch_time                                      ip  screen_num  \\\n",
       "24    1536330124                           77.238.61.100          18   \n",
       "68    1536331994                           193.12.72.184          18   \n",
       "89    1536333106                         217.214.152.255          18   \n",
       "127   1536335217                           78.71.214.199          18   \n",
       "150   1536335902                            83.252.97.31          18   \n",
       "169   1536335973                            83.252.97.31          18   \n",
       "200   1536336147                           78.71.214.199          18   \n",
       "240   1536339271                            83.233.2.218          18   \n",
       "248   1536339464                           77.238.61.100          18   \n",
       "271   1536340732                           94.234.50.247          18   \n",
       "306   1536341336                           77.218.229.61          18   \n",
       "330   1536342126                           77.238.61.107          18   \n",
       "352   1536342606                             85.194.8.76          18   \n",
       "391   1536343860                          31.208.112.166          18   \n",
       "412   1536344437                          83.252.102.121          18   \n",
       "438   1536346243                          31.208.114.169          18   \n",
       "458   1536348216                          83.253.221.127          18   \n",
       "482   1536348226                          83.253.221.127          18   \n",
       "496   1536348229                          83.253.221.127          18   \n",
       "524   1536357351                         217.214.151.114          18   \n",
       "558   1536380228                         185.229.190.165          18   \n",
       "578   1536381244                          37.123.150.170          18   \n",
       "598   1536383378                         217.214.146.177          18   \n",
       "618   1536383696   2a00:801:320:e9d9:a964:cd4e:45b3:db0c          18   \n",
       "638   1536384985                           87.253.95.220          18   \n",
       "670   1536385228   2a00:801:251:c32e:b943:3a12:3d40:3813          18   \n",
       "694   1536389547                          85.230.216.149          18   \n",
       "715   1536398499                           87.253.92.147          18   \n",
       "736   1536399791                            46.59.34.121          18   \n",
       "760   1536401107                            95.199.11.76          18   \n",
       "781   1536403460   2a00:801:341:f2af:2c58:df7e:10de:9934          18   \n",
       "801   1536403785                          84.217.235.153          18   \n",
       "821   1536404545        2a02:aa1:1607:e6e4:1:2:8b20:a881          18   \n",
       "842   1536405001                          81.230.148.174          18   \n",
       "862   1536406158                           87.253.93.192          18   \n",
       "901   1536407954                            81.235.23.87          18   \n",
       "903   1536407958                           83.252.98.209          18   \n",
       "961   1536414346                          185.113.96.191          18   \n",
       "983   1536415528                           94.234.49.114          18   \n",
       "1003  1536422038                           79.99.170.162          18   \n",
       "1037  1536429087                           87.253.92.147          18   \n",
       "1070  1536434261                            94.234.54.98          18   \n",
       "1081  1536434457  2a02:aa1:1003:a2ef:50ce:85bb:dfd2:9507          18   \n",
       "1100  1536436539                             90.224.8.37          18   \n",
       "1133  1536440102                            83.252.8.174          18   \n",
       "1155  1536447254                          158.174.79.214          18   \n",
       "1181  1536448919                           90.226.43.244          18   \n",
       "1200  1536451309                           83.252.97.196          18   \n",
       "1220  1536471100                         213.238.253.221          18   \n",
       "1264  1536477820                           85.224.141.47          18   \n",
       "\n",
       "                time_as_string  \n",
       "24    Fri Sep  7 16:22:04 2018  \n",
       "68    Fri Sep  7 16:53:14 2018  \n",
       "89    Fri Sep  7 17:11:46 2018  \n",
       "127   Fri Sep  7 17:46:57 2018  \n",
       "150   Fri Sep  7 17:58:22 2018  \n",
       "169   Fri Sep  7 17:59:33 2018  \n",
       "200   Fri Sep  7 18:02:27 2018  \n",
       "240   Fri Sep  7 18:54:31 2018  \n",
       "248   Fri Sep  7 18:57:44 2018  \n",
       "271   Fri Sep  7 19:18:52 2018  \n",
       "306   Fri Sep  7 19:28:56 2018  \n",
       "330   Fri Sep  7 19:42:06 2018  \n",
       "352   Fri Sep  7 19:50:06 2018  \n",
       "391   Fri Sep  7 20:11:00 2018  \n",
       "412   Fri Sep  7 20:20:37 2018  \n",
       "438   Fri Sep  7 20:50:43 2018  \n",
       "458   Fri Sep  7 21:23:36 2018  \n",
       "482   Fri Sep  7 21:23:46 2018  \n",
       "496   Fri Sep  7 21:23:49 2018  \n",
       "524   Fri Sep  7 23:55:51 2018  \n",
       "558   Sat Sep  8 06:17:08 2018  \n",
       "578   Sat Sep  8 06:34:04 2018  \n",
       "598   Sat Sep  8 07:09:38 2018  \n",
       "618   Sat Sep  8 07:14:56 2018  \n",
       "638   Sat Sep  8 07:36:25 2018  \n",
       "670   Sat Sep  8 07:40:28 2018  \n",
       "694   Sat Sep  8 08:52:27 2018  \n",
       "715   Sat Sep  8 11:21:39 2018  \n",
       "736   Sat Sep  8 11:43:11 2018  \n",
       "760   Sat Sep  8 12:05:07 2018  \n",
       "781   Sat Sep  8 12:44:20 2018  \n",
       "801   Sat Sep  8 12:49:45 2018  \n",
       "821   Sat Sep  8 13:02:25 2018  \n",
       "842   Sat Sep  8 13:10:01 2018  \n",
       "862   Sat Sep  8 13:29:18 2018  \n",
       "901   Sat Sep  8 13:59:14 2018  \n",
       "903   Sat Sep  8 13:59:18 2018  \n",
       "961   Sat Sep  8 15:45:46 2018  \n",
       "983   Sat Sep  8 16:05:28 2018  \n",
       "1003  Sat Sep  8 17:53:58 2018  \n",
       "1037  Sat Sep  8 19:51:27 2018  \n",
       "1070  Sat Sep  8 21:17:41 2018  \n",
       "1081  Sat Sep  8 21:20:57 2018  \n",
       "1100  Sat Sep  8 21:55:39 2018  \n",
       "1133  Sat Sep  8 22:55:02 2018  \n",
       "1155  Sun Sep  9 00:54:14 2018  \n",
       "1181  Sun Sep  9 01:21:59 2018  \n",
       "1200  Sun Sep  9 02:01:49 2018  \n",
       "1220  Sun Sep  9 07:31:40 2018  \n",
       "1264  Sun Sep  9 09:23:40 2018  "
      ]
     },
     "execution_count": 99,
     "metadata": {},
     "output_type": "execute_result"
    }
   ],
   "source": [
    "df[ df.screen_num == 18 ]"
   ]
  },
  {
   "cell_type": "code",
   "execution_count": 101,
   "metadata": {},
   "outputs": [
    {
     "data": {
      "text/plain": [
       "(50, 4)"
      ]
     },
     "execution_count": 101,
     "metadata": {},
     "output_type": "execute_result"
    }
   ],
   "source": [
    "df[ df.screen_num == 18 ].shape"
   ]
  },
  {
   "cell_type": "code",
   "execution_count": 102,
   "metadata": {},
   "outputs": [
    {
     "data": {
      "text/plain": [
       "(array([261., 152., 138., 130.,  65., 123., 118., 114., 102., 100.]),\n",
       " array([ 0. ,  1.8,  3.6,  5.4,  7.2,  9. , 10.8, 12.6, 14.4, 16.2, 18. ]),\n",
       " <a list of 10 Patch objects>)"
      ]
     },
     "execution_count": 102,
     "metadata": {},
     "output_type": "execute_result"
    },
    {
     "data": {
      "image/png": "[encoded data removed]",
      "text/plain": [
       "<Figure size 432x288 with 1 Axes>"
      ]
     },
     "metadata": {},
     "output_type": "display_data"
    }
   ],
   "source": [
    "plt.hist( df.screen_num )"
   ]
  },
  {
   "cell_type": "code",
   "execution_count": null,
   "metadata": {},
   "outputs": [],
   "source": []
  }
 ],
 "metadata": {
  "kernelspec": {
   "display_name": "Python 3",
   "language": "python",
   "name": "python3"
  },
  "language_info": {
   "codemirror_mode": {
    "name": "ipython",
    "version": 3
   },
   "file_extension": ".py",
   "mimetype": "text/x-python",
   "name": "python",
   "nbconvert_exporter": "python",
   "pygments_lexer": "ipython3",
   "version": "3.6.5"
  }
 },
 "nbformat": 4,
 "nbformat_minor": 2
}
